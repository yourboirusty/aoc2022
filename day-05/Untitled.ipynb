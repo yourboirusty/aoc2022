{
 "cells": [
  {
   "cell_type": "code",
   "execution_count": 11,
   "id": "39c5b552-64d2-4d7d-8ac4-604187d92203",
   "metadata": {},
   "outputs": [
    {
     "data": {
      "text/plain": [
       "[[None, None, None, None, None],\n",
       " [None, None, None, None, None],\n",
       " [None, None, None, None, None],\n",
       " [None, None, None, None, None],\n",
       " [None, None, None, None, None],\n",
       " [None, None, None, None, None],\n",
       " [None, None, None, None, None],\n",
       " [None, None, None, None, None],\n",
       " [None, None, None, None, None],\n",
       " [None, None, None, None, None]]"
      ]
     },
     "execution_count": 11,
     "metadata": {},
     "output_type": "execute_result"
    }
   ],
   "source": [
    "b = [[None]*5]*10\n",
    "b"
   ]
  },
  {
   "cell_type": "code",
   "execution_count": 15,
   "id": "2d030861-d366-41c3-a867-b9c8b1c72fe4",
   "metadata": {},
   "outputs": [
    {
     "name": "stdout",
     "output_type": "stream",
     "text": [
      "0,0\n",
      "1,0\n",
      "2,0\n",
      "3,0\n",
      "4,0\n",
      "5,0\n",
      "6,0\n",
      "7,0\n",
      "8,0\n",
      "9,0\n",
      "\n",
      "\n",
      "0,1\n",
      "1,1\n",
      "2,1\n",
      "3,1\n",
      "4,1\n",
      "5,1\n",
      "6,1\n",
      "7,1\n",
      "8,1\n",
      "9,1\n",
      "\n",
      "\n",
      "0,2\n",
      "1,2\n",
      "2,2\n",
      "3,2\n",
      "4,2\n",
      "5,2\n",
      "6,2\n",
      "7,2\n",
      "8,2\n",
      "9,2\n",
      "\n",
      "\n",
      "0,3\n",
      "1,3\n",
      "2,3\n",
      "3,3\n",
      "4,3\n",
      "5,3\n",
      "6,3\n",
      "7,3\n",
      "8,3\n",
      "9,3\n",
      "\n",
      "\n",
      "0,4\n",
      "1,4\n",
      "2,4\n",
      "3,4\n",
      "4,4\n",
      "5,4\n",
      "6,4\n",
      "7,4\n",
      "8,4\n",
      "9,4\n",
      "\n",
      "\n"
     ]
    },
    {
     "data": {
      "text/plain": [
       "[[(9, 0), (9, 1), (9, 2), (9, 3), (9, 4)],\n",
       " [(9, 0), (9, 1), (9, 2), (9, 3), (9, 4)],\n",
       " [(9, 0), (9, 1), (9, 2), (9, 3), (9, 4)],\n",
       " [(9, 0), (9, 1), (9, 2), (9, 3), (9, 4)],\n",
       " [(9, 0), (9, 1), (9, 2), (9, 3), (9, 4)],\n",
       " [(9, 0), (9, 1), (9, 2), (9, 3), (9, 4)],\n",
       " [(9, 0), (9, 1), (9, 2), (9, 3), (9, 4)],\n",
       " [(9, 0), (9, 1), (9, 2), (9, 3), (9, 4)],\n",
       " [(9, 0), (9, 1), (9, 2), (9, 3), (9, 4)],\n",
       " [(9, 0), (9, 1), (9, 2), (9, 3), (9, 4)]]"
      ]
     },
     "execution_count": 15,
     "metadata": {},
     "output_type": "execute_result"
    }
   ],
   "source": [
    "for x in range(5):\n",
    "    for y in range(10):\n",
    "        b[y][x]=(y,x)\n",
    "        print(f\"{y},{x}\")\n",
    "    print(\"\\n\")\n",
    "\n",
    "b"
   ]
  }
 ],
 "metadata": {
  "kernelspec": {
   "display_name": "Python 3 (ipykernel)",
   "language": "python",
   "name": "python3"
  },
  "language_info": {
   "codemirror_mode": {
    "name": "ipython",
    "version": 3
   },
   "file_extension": ".py",
   "mimetype": "text/x-python",
   "name": "python",
   "nbconvert_exporter": "python",
   "pygments_lexer": "ipython3",
   "version": "3.10.8"
  }
 },
 "nbformat": 4,
 "nbformat_minor": 5
}
